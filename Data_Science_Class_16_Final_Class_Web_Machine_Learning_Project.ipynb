{
 "cells": [
  {
   "cell_type": "code",
   "execution_count": 1,
   "id": "38bdf118",
   "metadata": {},
   "outputs": [],
   "source": [
    "import pandas as pd\n",
    "import numpy as np"
   ]
  },
  {
   "cell_type": "code",
   "execution_count": 12,
   "id": "0ecfce07",
   "metadata": {},
   "outputs": [
    {
     "data": {
      "text/html": [
       "<div>\n",
       "<style scoped>\n",
       "    .dataframe tbody tr th:only-of-type {\n",
       "        vertical-align: middle;\n",
       "    }\n",
       "\n",
       "    .dataframe tbody tr th {\n",
       "        vertical-align: top;\n",
       "    }\n",
       "\n",
       "    .dataframe thead th {\n",
       "        text-align: right;\n",
       "    }\n",
       "</style>\n",
       "<table border=\"1\" class=\"dataframe\">\n",
       "  <thead>\n",
       "    <tr style=\"text-align: right;\">\n",
       "      <th></th>\n",
       "      <th>0.0200</th>\n",
       "      <th>0.0371</th>\n",
       "      <th>0.0428</th>\n",
       "      <th>0.0207</th>\n",
       "      <th>0.0954</th>\n",
       "      <th>0.0986</th>\n",
       "      <th>0.1539</th>\n",
       "      <th>0.1601</th>\n",
       "      <th>0.3109</th>\n",
       "      <th>0.2111</th>\n",
       "      <th>...</th>\n",
       "      <th>0.0027</th>\n",
       "      <th>0.0065</th>\n",
       "      <th>0.0159</th>\n",
       "      <th>0.0072</th>\n",
       "      <th>0.0167</th>\n",
       "      <th>0.0180</th>\n",
       "      <th>0.0084</th>\n",
       "      <th>0.0090</th>\n",
       "      <th>0.0032</th>\n",
       "      <th>R</th>\n",
       "    </tr>\n",
       "  </thead>\n",
       "  <tbody>\n",
       "    <tr>\n",
       "      <th>0</th>\n",
       "      <td>0.0453</td>\n",
       "      <td>0.0523</td>\n",
       "      <td>0.0843</td>\n",
       "      <td>0.0689</td>\n",
       "      <td>0.1183</td>\n",
       "      <td>0.2583</td>\n",
       "      <td>0.2156</td>\n",
       "      <td>0.3481</td>\n",
       "      <td>0.3337</td>\n",
       "      <td>0.2872</td>\n",
       "      <td>...</td>\n",
       "      <td>0.0084</td>\n",
       "      <td>0.0089</td>\n",
       "      <td>0.0048</td>\n",
       "      <td>0.0094</td>\n",
       "      <td>0.0191</td>\n",
       "      <td>0.0140</td>\n",
       "      <td>0.0049</td>\n",
       "      <td>0.0052</td>\n",
       "      <td>0.0044</td>\n",
       "      <td>R</td>\n",
       "    </tr>\n",
       "    <tr>\n",
       "      <th>1</th>\n",
       "      <td>0.0262</td>\n",
       "      <td>0.0582</td>\n",
       "      <td>0.1099</td>\n",
       "      <td>0.1083</td>\n",
       "      <td>0.0974</td>\n",
       "      <td>0.2280</td>\n",
       "      <td>0.2431</td>\n",
       "      <td>0.3771</td>\n",
       "      <td>0.5598</td>\n",
       "      <td>0.6194</td>\n",
       "      <td>...</td>\n",
       "      <td>0.0232</td>\n",
       "      <td>0.0166</td>\n",
       "      <td>0.0095</td>\n",
       "      <td>0.0180</td>\n",
       "      <td>0.0244</td>\n",
       "      <td>0.0316</td>\n",
       "      <td>0.0164</td>\n",
       "      <td>0.0095</td>\n",
       "      <td>0.0078</td>\n",
       "      <td>R</td>\n",
       "    </tr>\n",
       "    <tr>\n",
       "      <th>2</th>\n",
       "      <td>0.0100</td>\n",
       "      <td>0.0171</td>\n",
       "      <td>0.0623</td>\n",
       "      <td>0.0205</td>\n",
       "      <td>0.0205</td>\n",
       "      <td>0.0368</td>\n",
       "      <td>0.1098</td>\n",
       "      <td>0.1276</td>\n",
       "      <td>0.0598</td>\n",
       "      <td>0.1264</td>\n",
       "      <td>...</td>\n",
       "      <td>0.0121</td>\n",
       "      <td>0.0036</td>\n",
       "      <td>0.0150</td>\n",
       "      <td>0.0085</td>\n",
       "      <td>0.0073</td>\n",
       "      <td>0.0050</td>\n",
       "      <td>0.0044</td>\n",
       "      <td>0.0040</td>\n",
       "      <td>0.0117</td>\n",
       "      <td>R</td>\n",
       "    </tr>\n",
       "    <tr>\n",
       "      <th>3</th>\n",
       "      <td>0.0762</td>\n",
       "      <td>0.0666</td>\n",
       "      <td>0.0481</td>\n",
       "      <td>0.0394</td>\n",
       "      <td>0.0590</td>\n",
       "      <td>0.0649</td>\n",
       "      <td>0.1209</td>\n",
       "      <td>0.2467</td>\n",
       "      <td>0.3564</td>\n",
       "      <td>0.4459</td>\n",
       "      <td>...</td>\n",
       "      <td>0.0031</td>\n",
       "      <td>0.0054</td>\n",
       "      <td>0.0105</td>\n",
       "      <td>0.0110</td>\n",
       "      <td>0.0015</td>\n",
       "      <td>0.0072</td>\n",
       "      <td>0.0048</td>\n",
       "      <td>0.0107</td>\n",
       "      <td>0.0094</td>\n",
       "      <td>R</td>\n",
       "    </tr>\n",
       "    <tr>\n",
       "      <th>4</th>\n",
       "      <td>0.0286</td>\n",
       "      <td>0.0453</td>\n",
       "      <td>0.0277</td>\n",
       "      <td>0.0174</td>\n",
       "      <td>0.0384</td>\n",
       "      <td>0.0990</td>\n",
       "      <td>0.1201</td>\n",
       "      <td>0.1833</td>\n",
       "      <td>0.2105</td>\n",
       "      <td>0.3039</td>\n",
       "      <td>...</td>\n",
       "      <td>0.0045</td>\n",
       "      <td>0.0014</td>\n",
       "      <td>0.0038</td>\n",
       "      <td>0.0013</td>\n",
       "      <td>0.0089</td>\n",
       "      <td>0.0057</td>\n",
       "      <td>0.0027</td>\n",
       "      <td>0.0051</td>\n",
       "      <td>0.0062</td>\n",
       "      <td>R</td>\n",
       "    </tr>\n",
       "  </tbody>\n",
       "</table>\n",
       "<p>5 rows × 61 columns</p>\n",
       "</div>"
      ],
      "text/plain": [
       "   0.0200  0.0371  0.0428  0.0207  0.0954  0.0986  0.1539  0.1601  0.3109  \\\n",
       "0  0.0453  0.0523  0.0843  0.0689  0.1183  0.2583  0.2156  0.3481  0.3337   \n",
       "1  0.0262  0.0582  0.1099  0.1083  0.0974  0.2280  0.2431  0.3771  0.5598   \n",
       "2  0.0100  0.0171  0.0623  0.0205  0.0205  0.0368  0.1098  0.1276  0.0598   \n",
       "3  0.0762  0.0666  0.0481  0.0394  0.0590  0.0649  0.1209  0.2467  0.3564   \n",
       "4  0.0286  0.0453  0.0277  0.0174  0.0384  0.0990  0.1201  0.1833  0.2105   \n",
       "\n",
       "   0.2111  ...  0.0027  0.0065  0.0159  0.0072  0.0167  0.0180  0.0084  \\\n",
       "0  0.2872  ...  0.0084  0.0089  0.0048  0.0094  0.0191  0.0140  0.0049   \n",
       "1  0.6194  ...  0.0232  0.0166  0.0095  0.0180  0.0244  0.0316  0.0164   \n",
       "2  0.1264  ...  0.0121  0.0036  0.0150  0.0085  0.0073  0.0050  0.0044   \n",
       "3  0.4459  ...  0.0031  0.0054  0.0105  0.0110  0.0015  0.0072  0.0048   \n",
       "4  0.3039  ...  0.0045  0.0014  0.0038  0.0013  0.0089  0.0057  0.0027   \n",
       "\n",
       "   0.0090  0.0032  R  \n",
       "0  0.0052  0.0044  R  \n",
       "1  0.0095  0.0078  R  \n",
       "2  0.0040  0.0117  R  \n",
       "3  0.0107  0.0094  R  \n",
       "4  0.0051  0.0062  R  \n",
       "\n",
       "[5 rows x 61 columns]"
      ]
     },
     "execution_count": 12,
     "metadata": {},
     "output_type": "execute_result"
    }
   ],
   "source": [
    "data = pd.read_csv('sonar.all-data.csv')\n",
    "data.head()"
   ]
  },
  {
   "cell_type": "code",
   "execution_count": 3,
   "id": "b3bce9f2",
   "metadata": {},
   "outputs": [
    {
     "data": {
      "text/plain": [
       "0.0200    float64\n",
       "0.0371    float64\n",
       "0.0428    float64\n",
       "0.0207    float64\n",
       "0.0954    float64\n",
       "0.0986    float64\n",
       "0.1539    float64\n",
       "0.1601    float64\n",
       "0.3109    float64\n",
       "0.2111    float64\n",
       "0.1609    float64\n",
       "0.1582    float64\n",
       "0.2238    float64\n",
       "0.0645    float64\n",
       "0.0660    float64\n",
       "0.2273    float64\n",
       "0.3100    float64\n",
       "0.2999    float64\n",
       "0.5078    float64\n",
       "0.4797    float64\n",
       "0.5783    float64\n",
       "0.5071    float64\n",
       "0.4328    float64\n",
       "0.5550    float64\n",
       "0.6711    float64\n",
       "0.6415    float64\n",
       "0.7104    float64\n",
       "0.8080    float64\n",
       "0.6791    float64\n",
       "0.3857    float64\n",
       "0.1307    float64\n",
       "0.2604    float64\n",
       "0.5121    float64\n",
       "0.7547    float64\n",
       "0.8537    float64\n",
       "0.8507    float64\n",
       "0.6692    float64\n",
       "0.6097    float64\n",
       "0.4943    float64\n",
       "0.2744    float64\n",
       "0.0510    float64\n",
       "0.2834    float64\n",
       "0.2825    float64\n",
       "0.4256    float64\n",
       "0.2641    float64\n",
       "0.1386    float64\n",
       "0.1051    float64\n",
       "0.1343    float64\n",
       "0.0383    float64\n",
       "0.0324    float64\n",
       "0.0232    float64\n",
       "0.0027    float64\n",
       "0.0065    float64\n",
       "0.0159    float64\n",
       "0.0072    float64\n",
       "0.0167    float64\n",
       "0.0180    float64\n",
       "0.0084    float64\n",
       "0.0090    float64\n",
       "0.0032    float64\n",
       "R          object\n",
       "dtype: object"
      ]
     },
     "execution_count": 3,
     "metadata": {},
     "output_type": "execute_result"
    }
   ],
   "source": [
    "pd.set_option('display.max_rows',500)\n",
    "data.dtypes"
   ]
  },
  {
   "cell_type": "code",
   "execution_count": 4,
   "id": "c78109ab",
   "metadata": {},
   "outputs": [
    {
     "data": {
      "text/plain": [
       "R\n",
       "M    111\n",
       "R     96\n",
       "dtype: int64"
      ]
     },
     "execution_count": 4,
     "metadata": {},
     "output_type": "execute_result"
    }
   ],
   "source": [
    "data.groupby('R').size()"
   ]
  },
  {
   "cell_type": "markdown",
   "id": "4339bb17",
   "metadata": {},
   "source": [
    "# MODEL EVALUATION"
   ]
  },
  {
   "cell_type": "code",
   "execution_count": 2,
   "id": "2d487d8c",
   "metadata": {},
   "outputs": [],
   "source": [
    "from sklearn.model_selection import train_test_split\n",
    "from sklearn.tree import DecisionTreeClassifier\n",
    "from sklearn.neighbors import KNeighborsClassifier \n",
    "from sklearn.ensemble import RandomForestClassifier\n",
    "from sklearn.linear_model import LogisticRegression\n",
    "from sklearn.naive_bayes import GaussianNB\n",
    "from sklearn import metrics\n",
    "import matplotlib.pyplot as plt"
   ]
  },
  {
   "cell_type": "markdown",
   "id": "c0bad1a4",
   "metadata": {},
   "source": [
    "# Train Test Split"
   ]
  },
  {
   "cell_type": "code",
   "execution_count": 7,
   "id": "45407195",
   "metadata": {},
   "outputs": [
    {
     "data": {
      "text/plain": [
       "array([[0.0453, 0.0523, 0.0843, ..., 0.0049, 0.0052, 0.0044],\n",
       "       [0.0262, 0.0582, 0.1099, ..., 0.0164, 0.0095, 0.0078],\n",
       "       [0.01, 0.0171, 0.0623, ..., 0.0044, 0.004, 0.0117],\n",
       "       ...,\n",
       "       [0.0522, 0.0437, 0.018, ..., 0.0138, 0.0077, 0.0031],\n",
       "       [0.0303, 0.0353, 0.049, ..., 0.0079, 0.0036, 0.0048],\n",
       "       [0.026, 0.0363, 0.0136, ..., 0.0036, 0.0061, 0.0115]], dtype=object)"
      ]
     },
     "execution_count": 7,
     "metadata": {},
     "output_type": "execute_result"
    }
   ],
   "source": [
    "arr = data.values\n",
    "\n",
    "X = arr[:,0:-1]\n",
    "Y = arr [:,-1]\n",
    "\n",
    "testing_size = 0.2\n",
    "X"
   ]
  },
  {
   "cell_type": "code",
   "execution_count": 8,
   "id": "26b6a2ed",
   "metadata": {},
   "outputs": [
    {
     "data": {
      "text/plain": [
       "0      R\n",
       "1      R\n",
       "2      R\n",
       "3      R\n",
       "4      R\n",
       "5      R\n",
       "6      R\n",
       "7      R\n",
       "8      R\n",
       "9      R\n",
       "10     R\n",
       "11     R\n",
       "12     R\n",
       "13     R\n",
       "14     R\n",
       "15     R\n",
       "16     R\n",
       "17     R\n",
       "18     R\n",
       "19     R\n",
       "20     R\n",
       "21     R\n",
       "22     R\n",
       "23     R\n",
       "24     R\n",
       "25     R\n",
       "26     R\n",
       "27     R\n",
       "28     R\n",
       "29     R\n",
       "30     R\n",
       "31     R\n",
       "32     R\n",
       "33     R\n",
       "34     R\n",
       "35     R\n",
       "36     R\n",
       "37     R\n",
       "38     R\n",
       "39     R\n",
       "40     R\n",
       "41     R\n",
       "42     R\n",
       "43     R\n",
       "44     R\n",
       "45     R\n",
       "46     R\n",
       "47     R\n",
       "48     R\n",
       "49     R\n",
       "50     R\n",
       "51     R\n",
       "52     R\n",
       "53     R\n",
       "54     R\n",
       "55     R\n",
       "56     R\n",
       "57     R\n",
       "58     R\n",
       "59     R\n",
       "60     R\n",
       "61     R\n",
       "62     R\n",
       "63     R\n",
       "64     R\n",
       "65     R\n",
       "66     R\n",
       "67     R\n",
       "68     R\n",
       "69     R\n",
       "70     R\n",
       "71     R\n",
       "72     R\n",
       "73     R\n",
       "74     R\n",
       "75     R\n",
       "76     R\n",
       "77     R\n",
       "78     R\n",
       "79     R\n",
       "80     R\n",
       "81     R\n",
       "82     R\n",
       "83     R\n",
       "84     R\n",
       "85     R\n",
       "86     R\n",
       "87     R\n",
       "88     R\n",
       "89     R\n",
       "90     R\n",
       "91     R\n",
       "92     R\n",
       "93     R\n",
       "94     R\n",
       "95     R\n",
       "96     M\n",
       "97     M\n",
       "98     M\n",
       "99     M\n",
       "100    M\n",
       "101    M\n",
       "102    M\n",
       "103    M\n",
       "104    M\n",
       "105    M\n",
       "106    M\n",
       "107    M\n",
       "108    M\n",
       "109    M\n",
       "110    M\n",
       "111    M\n",
       "112    M\n",
       "113    M\n",
       "114    M\n",
       "115    M\n",
       "116    M\n",
       "117    M\n",
       "118    M\n",
       "119    M\n",
       "120    M\n",
       "121    M\n",
       "122    M\n",
       "123    M\n",
       "124    M\n",
       "125    M\n",
       "126    M\n",
       "127    M\n",
       "128    M\n",
       "129    M\n",
       "130    M\n",
       "131    M\n",
       "132    M\n",
       "133    M\n",
       "134    M\n",
       "135    M\n",
       "136    M\n",
       "137    M\n",
       "138    M\n",
       "139    M\n",
       "140    M\n",
       "141    M\n",
       "142    M\n",
       "143    M\n",
       "144    M\n",
       "145    M\n",
       "146    M\n",
       "147    M\n",
       "148    M\n",
       "149    M\n",
       "150    M\n",
       "151    M\n",
       "152    M\n",
       "153    M\n",
       "154    M\n",
       "155    M\n",
       "156    M\n",
       "157    M\n",
       "158    M\n",
       "159    M\n",
       "160    M\n",
       "161    M\n",
       "162    M\n",
       "163    M\n",
       "164    M\n",
       "165    M\n",
       "166    M\n",
       "167    M\n",
       "168    M\n",
       "169    M\n",
       "170    M\n",
       "171    M\n",
       "172    M\n",
       "173    M\n",
       "174    M\n",
       "175    M\n",
       "176    M\n",
       "177    M\n",
       "178    M\n",
       "179    M\n",
       "180    M\n",
       "181    M\n",
       "182    M\n",
       "183    M\n",
       "184    M\n",
       "185    M\n",
       "186    M\n",
       "187    M\n",
       "188    M\n",
       "189    M\n",
       "190    M\n",
       "191    M\n",
       "192    M\n",
       "193    M\n",
       "194    M\n",
       "195    M\n",
       "196    M\n",
       "197    M\n",
       "198    M\n",
       "199    M\n",
       "200    M\n",
       "201    M\n",
       "202    M\n",
       "203    M\n",
       "204    M\n",
       "205    M\n",
       "206    M\n",
       "Name: R, dtype: object"
      ]
     },
     "execution_count": 8,
     "metadata": {},
     "output_type": "execute_result"
    }
   ],
   "source": [
    "X= data.drop('R',axis=1)\n",
    "Y= data['R']\n",
    "Y"
   ]
  },
  {
   "cell_type": "code",
   "execution_count": 71,
   "id": "31f358a8",
   "metadata": {},
   "outputs": [],
   "source": [
    "X_train,X_test,Y_train,Y_test=train_test_split(X,Y,test_size=testing_size,random_state=42)"
   ]
  },
  {
   "cell_type": "code",
   "execution_count": 72,
   "id": "d44ba045",
   "metadata": {},
   "outputs": [
    {
     "data": {
      "text/plain": [
       "69.04761904761905"
      ]
     },
     "execution_count": 72,
     "metadata": {},
     "output_type": "execute_result"
    }
   ],
   "source": [
    "DT = DecisionTreeClassifier(max_depth=2)\n",
    "DT.fit(X_train,Y_train)\n",
    "y_pred = DT.predict(X_test)\n",
    "acc=metrics.accuracy_score(Y_test,y_pred)*100\n",
    "acc"
   ]
  },
  {
   "cell_type": "code",
   "execution_count": 73,
   "id": "76552825",
   "metadata": {},
   "outputs": [
    {
     "name": "stdout",
     "output_type": "stream",
     "text": [
      "0.7380952380952381\n",
      "0\n"
     ]
    },
    {
     "data": {
      "image/png": "[encoded data removed]",
      "text/plain": [
       "<Figure size 432x288 with 1 Axes>"
      ]
     },
     "metadata": {
      "needs_background": "light"
     },
     "output_type": "display_data"
    }
   ],
   "source": [
    "DT_range=list(range(1,50))\n",
    "acc=[]\n",
    "\n",
    "for md in DT_range:\n",
    "    DT = DecisionTreeClassifier(max_depth=md)\n",
    "    DT.fit(X_train,Y_train)\n",
    "    y_pred = DT.predict(X_test)\n",
    "    acc.append(metrics.accuracy_score(Y_test,y_pred))\n",
    "print(max(acc))\n",
    "print(acc.index(max(acc)))\n",
    "plt.plot(DT_range,acc)\n",
    "plt.xlabel('Value of K for KNN')\n",
    "plt.ylabel('Accuracy Scores')\n",
    "plt.show()"
   ]
  },
  {
   "cell_type": "code",
   "execution_count": 99,
   "id": "0c02e3dc",
   "metadata": {},
   "outputs": [
    {
     "data": {
      "text/plain": [
       "76.19047619047619"
      ]
     },
     "execution_count": 99,
     "metadata": {},
     "output_type": "execute_result"
    }
   ],
   "source": [
    "RF = RandomForestClassifier()\n",
    "RF.fit(X_train,Y_train)\n",
    "y_pred = DT.predict(X_test)\n",
    "acc=metrics.accuracy_score(Y_test,y_pred)*100\n",
    "acc"
   ]
  },
  {
   "cell_type": "code",
   "execution_count": 25,
   "id": "f1196169",
   "metadata": {},
   "outputs": [],
   "source": [
    "models=[]\n",
    "models.append(('DT',DecisionTreeClassifier()))\n",
    "models.append(('RT',RandomForestClassifier()))\n",
    "models.append(('KNN',KNeighborsClassifier()))\n",
    "models.append(('LR',LogisticRegression()))\n",
    "models.append(('GNB',GaussianNB()))"
   ]
  },
  {
   "cell_type": "code",
   "execution_count": 26,
   "id": "c2c357bf",
   "metadata": {},
   "outputs": [
    {
     "data": {
      "text/plain": [
       "[('DT', DecisionTreeClassifier()),\n",
       " ('RT', RandomForestClassifier()),\n",
       " ('KNN', KNeighborsClassifier()),\n",
       " ('LR', LogisticRegression()),\n",
       " ('GNB', GaussianNB())]"
      ]
     },
     "execution_count": 26,
     "metadata": {},
     "output_type": "execute_result"
    }
   ],
   "source": [
    "models"
   ]
  },
  {
   "cell_type": "code",
   "execution_count": 27,
   "id": "29a1ffef",
   "metadata": {},
   "outputs": [
    {
     "name": "stdout",
     "output_type": "stream",
     "text": [
      "DT\n",
      "DecisionTreeClassifier()\n",
      "RT\n",
      "RandomForestClassifier()\n",
      "KNN\n",
      "KNeighborsClassifier()\n",
      "LR\n",
      "LogisticRegression()\n",
      "GNB\n",
      "GaussianNB()\n"
     ]
    }
   ],
   "source": [
    "for name,model in models:\n",
    "    print(name)\n",
    "    print(model)"
   ]
  },
  {
   "cell_type": "code",
   "execution_count": 28,
   "id": "e2c00e6f",
   "metadata": {},
   "outputs": [
    {
     "name": "stdout",
     "output_type": "stream",
     "text": [
      "[80.95238095238095, 83.33333333333334, 80.95238095238095, 76.19047619047619, 66.66666666666666]\n"
     ]
    }
   ],
   "source": [
    "names=[]\n",
    "results=[]\n",
    "\n",
    "for name,model in models:\n",
    "    obj=model\n",
    "    names.append(name)\n",
    "    obj.fit(X_train,Y_train)\n",
    "    y_pred = obj.predict(X_test)\n",
    "    results.append(metrics.accuracy_score(Y_test,y_pred)*100)\n",
    "    \n",
    "print(results)"
   ]
  },
  {
   "cell_type": "code",
   "execution_count": 29,
   "id": "101c7e09",
   "metadata": {
    "scrolled": true
   },
   "outputs": [
    {
     "data": {
      "text/plain": [
       "<matplotlib.collections.PathCollection at 0x214456fd910>"
      ]
     },
     "execution_count": 29,
     "metadata": {},
     "output_type": "execute_result"
    },
    {
     "data": {
      "image/png": "[encoded data removed]",
      "text/plain": [
       "<Figure size 432x288 with 1 Axes>"
      ]
     },
     "metadata": {
      "needs_background": "light"
     },
     "output_type": "display_data"
    }
   ],
   "source": [
    "plt.scatter(names,results)"
   ]
  },
  {
   "cell_type": "markdown",
   "id": "32d4c8c3",
   "metadata": {},
   "source": [
    "# DEEP LEARNING"
   ]
  },
  {
   "cell_type": "code",
   "execution_count": 3,
   "id": "46ddc826",
   "metadata": {},
   "outputs": [],
   "source": [
    "import tensorflow as tf\n",
    "from tensorflow import keras"
   ]
  },
  {
   "cell_type": "code",
   "execution_count": 18,
   "id": "88aa3000",
   "metadata": {},
   "outputs": [
    {
     "name": "stdout",
     "output_type": "stream",
     "text": [
      "12     0\n",
      "115    1\n",
      "82     0\n",
      "171    1\n",
      "11     0\n",
      "      ..\n",
      "32     0\n",
      "182    1\n",
      "201    1\n",
      "151    1\n",
      "194    1\n",
      "Name: R, Length: 165, dtype: int64\n"
     ]
    }
   ],
   "source": [
    "# data['R'].replace(to_replace=['R','M'],value=[0,1],inplace=True)\n",
    "# data.tail()\n",
    "X = data.drop('R',axis=1)\n",
    "Y = data['R']\n",
    "X_train,X_test,Y_train,Y_test=train_test_split(X,Y,test_size=0.2)\n",
    "\n",
    "\n",
    "print(Y_train)"
   ]
  },
  {
   "cell_type": "code",
   "execution_count": 9,
   "id": "a1548d61",
   "metadata": {},
   "outputs": [
    {
     "name": "stdout",
     "output_type": "stream",
     "text": [
      "Model: \"sequential_3\"\n",
      "_________________________________________________________________\n",
      " Layer (type)                Output Shape              Param #   \n",
      "=================================================================\n",
      " dense_12 (Dense)            (None, 24)                1464      \n",
      "                                                                 \n",
      " dense_13 (Dense)            (None, 12)                300       \n",
      "                                                                 \n",
      " dense_14 (Dense)            (None, 8)                 104       \n",
      "                                                                 \n",
      " dense_15 (Dense)            (None, 1)                 9         \n",
      "                                                                 \n",
      "=================================================================\n",
      "Total params: 1,877\n",
      "Trainable params: 1,877\n",
      "Non-trainable params: 0\n",
      "_________________________________________________________________\n"
     ]
    }
   ],
   "source": [
    "ann_model = keras.Sequential(\n",
    "    [\n",
    "        keras.layers.Dense(24,input_dim=60, activation=\"relu\"),\n",
    "        keras.layers.Dense(12, activation=\"relu\"),\n",
    "        keras.layers.Dense(8, activation=\"relu\"),\n",
    "        keras.layers.Dense(1,activation=\"sigmoid\" ),\n",
    "    ]\n",
    ")\n",
    "\n",
    "ann_model.compile(\n",
    "  optimizer = keras.optimizers.Adam(),\n",
    "  loss = 'binary_crossentropy',\n",
    "metrics = ['accuracy']\n",
    ")\n",
    "\n",
    "ann_model.summary()"
   ]
  },
  {
   "cell_type": "code",
   "execution_count": 20,
   "id": "eb6cabda",
   "metadata": {},
   "outputs": [
    {
     "name": "stdout",
     "output_type": "stream",
     "text": [
      "Epoch 1/20\n",
      "6/6 [==============================] - 3s 14ms/step - loss: 0.7315 - accuracy: 0.4545\n",
      "Epoch 2/20\n",
      "6/6 [==============================] - 0s 3ms/step - loss: 0.7045 - accuracy: 0.4545\n",
      "Epoch 3/20\n",
      "6/6 [==============================] - 0s 3ms/step - loss: 0.6930 - accuracy: 0.4727\n",
      "Epoch 4/20\n",
      "6/6 [==============================] - 0s 3ms/step - loss: 0.6888 - accuracy: 0.5030\n",
      "Epoch 5/20\n",
      "6/6 [==============================] - 0s 3ms/step - loss: 0.6853 - accuracy: 0.5515\n",
      "Epoch 6/20\n",
      "6/6 [==============================] - 0s 3ms/step - loss: 0.6829 - accuracy: 0.6424\n",
      "Epoch 7/20\n",
      "6/6 [==============================] - 0s 3ms/step - loss: 0.6792 - accuracy: 0.6788\n",
      "Epoch 8/20\n",
      "6/6 [==============================] - 0s 3ms/step - loss: 0.6746 - accuracy: 0.6788\n",
      "Epoch 9/20\n",
      "6/6 [==============================] - 0s 3ms/step - loss: 0.6688 - accuracy: 0.7333\n",
      "Epoch 10/20\n",
      "6/6 [==============================] - 0s 2ms/step - loss: 0.6652 - accuracy: 0.7273\n",
      "Epoch 11/20\n",
      "6/6 [==============================] - 0s 3ms/step - loss: 0.6592 - accuracy: 0.7576\n",
      "Epoch 12/20\n",
      "6/6 [==============================] - 0s 3ms/step - loss: 0.6550 - accuracy: 0.7576\n",
      "Epoch 13/20\n",
      "6/6 [==============================] - 0s 3ms/step - loss: 0.6493 - accuracy: 0.7758\n",
      "Epoch 14/20\n",
      "6/6 [==============================] - 0s 3ms/step - loss: 0.6428 - accuracy: 0.7697\n",
      "Epoch 15/20\n",
      "6/6 [==============================] - 0s 3ms/step - loss: 0.6363 - accuracy: 0.7697\n",
      "Epoch 16/20\n",
      "6/6 [==============================] - 0s 3ms/step - loss: 0.6291 - accuracy: 0.7697\n",
      "Epoch 17/20\n",
      "6/6 [==============================] - 0s 3ms/step - loss: 0.6221 - accuracy: 0.7879\n",
      "Epoch 18/20\n",
      "6/6 [==============================] - 0s 3ms/step - loss: 0.6132 - accuracy: 0.7818\n",
      "Epoch 19/20\n",
      "6/6 [==============================] - 0s 3ms/step - loss: 0.6046 - accuracy: 0.7697\n",
      "Epoch 20/20\n",
      "6/6 [==============================] - 0s 3ms/step - loss: 0.5947 - accuracy: 0.7879\n"
     ]
    },
    {
     "data": {
      "text/plain": [
       "<keras.callbacks.History at 0x21442fd4d30>"
      ]
     },
     "execution_count": 20,
     "metadata": {},
     "output_type": "execute_result"
    }
   ],
   "source": [
    "ann_model.fit(X_train,Y_train,epochs=20)"
   ]
  },
  {
   "cell_type": "code",
   "execution_count": 21,
   "id": "c4ed15a0",
   "metadata": {},
   "outputs": [
    {
     "name": "stdout",
     "output_type": "stream",
     "text": [
      "2/2 [==============================] - 0s 0s/step - loss: 0.5807 - accuracy: 0.7857\n"
     ]
    }
   ],
   "source": [
    "loss , acc = ann_model.evaluate(X_test,Y_test)"
   ]
  },
  {
   "cell_type": "code",
   "execution_count": 33,
   "id": "468bca7b",
   "metadata": {},
   "outputs": [
    {
     "name": "stdout",
     "output_type": "stream",
     "text": [
      "0.5806764960289001\n",
      "0.7857142686843872\n"
     ]
    }
   ],
   "source": [
    "print(loss)\n",
    "print(acc)"
   ]
  },
  {
   "cell_type": "code",
   "execution_count": 32,
   "id": "76a2d586",
   "metadata": {},
   "outputs": [
    {
     "name": "stdout",
     "output_type": "stream",
     "text": [
      "[80.95238095238095, 83.33333333333334, 80.95238095238095, 76.19047619047619, 66.66666666666666, 78.57142686843872, 78.57142686843872]\n",
      "['DT', 'RT', 'KNN', 'LR', 'GNB', 'Fahad', 'ANN']\n"
     ]
    }
   ],
   "source": [
    "results.append(acc*100)\n",
    "names.append('ANN')\n",
    "\n",
    "print(results)\n",
    "print(names)"
   ]
  },
  {
   "cell_type": "code",
   "execution_count": 34,
   "id": "b5c0e7df",
   "metadata": {},
   "outputs": [
    {
     "data": {
      "text/plain": [
       "<matplotlib.collections.PathCollection at 0x214458338e0>"
      ]
     },
     "execution_count": 34,
     "metadata": {},
     "output_type": "execute_result"
    },
    {
     "data": {
      "image/png": "[encoded data removed]",
      "text/plain": [
       "<Figure size 432x288 with 1 Axes>"
      ]
     },
     "metadata": {
      "needs_background": "light"
     },
     "output_type": "display_data"
    }
   ],
   "source": [
    "plt.scatter(names,results)"
   ]
  },
  {
   "cell_type": "code",
   "execution_count": null,
   "id": "dcc7995b",
   "metadata": {},
   "outputs": [],
   "source": []
  }
 ],
 "metadata": {
  "kernelspec": {
   "display_name": "Python 3 (ipykernel)",
   "language": "python",
   "name": "python3"
  },
  "language_info": {
   "codemirror_mode": {
    "name": "ipython",
    "version": 3
   },
   "file_extension": ".py",
   "mimetype": "text/x-python",
   "name": "python",
   "nbconvert_exporter": "python",
   "pygments_lexer": "ipython3",
   "version": "3.9.7"
  }
 },
 "nbformat": 4,
 "nbformat_minor": 5
}
